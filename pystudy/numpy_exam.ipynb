{
 "cells": [
  {
   "cell_type": "code",
   "execution_count": null,
   "id": "8ca6192f",
   "metadata": {},
   "outputs": [
    {
     "name": "stdout",
     "output_type": "stream",
     "text": [
      "<class 'numpy.ndarray'>\n",
      "<class 'list'>\n"
     ]
    }
   ],
   "source": [
    "import numpy as np\n",
    "\n",
    "# 1차원 ndArray 생성 (숫자 4개가 한 줄로 있는 배열)\n",
    "np.array([1, 2, 3, 4])\n",
    "\n",
    "arr1 = np.array([1, 2, 3, 4]) # numpy 배열임을 알려줌\n",
    "arr2 = [1, 2, 3, 4]\n",
    "\n",
    "# type = <class 'numpy.ndarray'>\n",
    "# 넘파이로 이루어진 다차원 배열\n",
    "print(type(arr1)) \n",
    "\n",
    "# type = <class 'list'>\n",
    "# 파이썬 리스트 형태\n",
    "print(type(arr2)) "
   ]
  },
  {
   "cell_type": "code",
   "execution_count": null,
   "id": "f4815c3c",
   "metadata": {},
   "outputs": [
    {
     "name": "stdout",
     "output_type": "stream",
     "text": [
      "2차원 배열 arr2\n",
      "[[1 2 3 4]\n",
      " [5 6 7 8]]\n"
     ]
    }
   ],
   "source": [
    "# 1차원 배열 : 숫자가 한 줄로 늘어선 형태\n",
    "# 2차원 배열 : 숫자가 가로와 세로로 된 표 모양\n",
    "# 3차원 배열 : 2차원 배열이 여러 장 겹친 입체 모양\n",
    "\n",
    "# 2차원 ndArray 생성\n",
    "# 2차원 배열 = 1차원 배열 두개가 리스트로 묶인 형태\n",
    "arr2 = np.array([[1, 2, 3, 4], \n",
    "                [5, 6, 7, 8]])\n",
    "\n",
    "print(\"2차원 배열 arr2\")                \n",
    "print(arr2)"
   ]
  },
  {
   "cell_type": "code",
   "execution_count": 13,
   "id": "64f5b6bc",
   "metadata": {},
   "outputs": [
    {
     "name": "stdout",
     "output_type": "stream",
     "text": [
      "3차원 배열 arr3\n",
      "[[[1 2 3]\n",
      "  [4 5 6]]\n",
      "\n",
      " [[2 4 6]\n",
      "  [3 5 7]]]\n"
     ]
    }
   ],
   "source": [
    "# 3차원 ndArray 생성\n",
    "arr3 = np.array([[[1, 2, 3], [4, 5, 6]],\n",
    "                [[2, 4, 6], [3, 5, 7]]])\n",
    "print(\"3차원 배열 arr3\")\n",
    "print(arr3)             "
   ]
  },
  {
   "cell_type": "code",
   "execution_count": null,
   "id": "5d5979a3",
   "metadata": {},
   "outputs": [],
   "source": [
    "# 리스트 vs ndAraay\n",
    "# 차원 "
   ]
  },
  {
   "cell_type": "code",
   "execution_count": 19,
   "id": "e529c801",
   "metadata": {},
   "outputs": [
    {
     "name": "stdout",
     "output_type": "stream",
     "text": [
      "1\n",
      "2\n",
      "3\n",
      "(4,)\n",
      "(2, 4)\n",
      "(2, 2, 3)\n",
      "4\n",
      "8\n",
      "12\n",
      "int64\n",
      "int64\n",
      "int64\n"
     ]
    }
   ],
   "source": [
    "# ndim : 몇 차원 배열인지 알려줌\n",
    "print(arr1.ndim)\n",
    "print(arr2.ndim)\n",
    "print(arr3.ndim)\n",
    "\n",
    "# shape : 배열의 형태를 알려줌\n",
    "print(arr1.shape) # (4,) = 숫자 4개가 있는 한 줄\n",
    "print(arr2.shape) # (2, 4) = 2줄, 각 줄에 4칸\n",
    "print(arr3.shape) # (2, 2, 3) = 2장(층), 각 장마다 2줄, 각 줄에 3칸\n",
    "\n",
    "# size : 요소의 개수 (배열에 들어간 모든 숫자의 갯수를 알려줌)\n",
    "print(arr1.size) # 4개\n",
    "print(arr2.size) # 2 * 4 = 8개\n",
    "print(arr3.size) # 2 * 2 * 3 = 12개\n",
    "\n",
    "# dtype : 배열 요소의 데이터 타입\n",
    "print(arr1.dtype)\n",
    "print(arr2.dtype)\n",
    "print(arr3.dtype)\n",
    "\n"
   ]
  },
  {
   "cell_type": "code",
   "execution_count": 23,
   "id": "e5912e6c",
   "metadata": {},
   "outputs": [
    {
     "name": "stdout",
     "output_type": "stream",
     "text": [
      "원래 배열\n",
      "[[1 2 3]\n",
      " [4 5 6]]\n",
      "전치 배열\n",
      "[[1 4]\n",
      " [2 5]\n",
      " [3 6]]\n"
     ]
    }
   ],
   "source": [
    "# ndarray.T : 전치행렬\n",
    "\n",
    "arr = np.array([[1,2,3,],    \n",
    "                [4,5,6]])\n",
    "\n",
    "print(\"원래 배열\")\n",
    "print(arr)\n",
    "\n",
    "print(\"전치 배열\")\n",
    "print(arr.T)"
   ]
  },
  {
   "cell_type": "code",
   "execution_count": 26,
   "id": "2a7abbc5",
   "metadata": {},
   "outputs": [
    {
     "name": "stdout",
     "output_type": "stream",
     "text": [
      "원래 배열\n",
      "[[1 2 3]\n",
      " [4 5 6]]\n",
      "1차원으로 펼친 배열\n",
      "[1 2 3 4 5 6]\n"
     ]
    }
   ],
   "source": [
    "# ndArray.flatten() : 1차원으로 펼치기\n",
    "\n",
    "arr = np.array([[1,2,3,],    \n",
    "                [4,5,6]])\n",
    "                \n",
    "print(\"원래 배열\")                \n",
    "print(arr)\n",
    "\n",
    "print(\"1차원으로 펼친 배열\")                \n",
    "print(arr.flatten())"
   ]
  },
  {
   "cell_type": "code",
   "execution_count": 29,
   "id": "145fc60e",
   "metadata": {},
   "outputs": [
    {
     "name": "stdout",
     "output_type": "stream",
     "text": [
      "원래 배열\n",
      "[1 2 3 4 5 6]\n",
      "2행 3열 배열\n",
      "[[1 2 3]\n",
      " [4 5 6]]\n"
     ]
    }
   ],
   "source": [
    "# ndArray.reshape() : 배열 모양 바꾸기, 원래 배열의 모습과 같아야 함\n",
    "arr = np.array([1,2,3,4,5,6])\n",
    "print(\"원래 배열\")                \n",
    "print(arr)\n",
    "\n",
    "arr2 = arr.reshape(2, 3) # 2행 3열로 변환\n",
    "print(\"2행 3열 배열\")\n",
    "print(arr2)"
   ]
  },
  {
   "cell_type": "code",
   "execution_count": 35,
   "id": "67f94d23",
   "metadata": {},
   "outputs": [
    {
     "name": "stdout",
     "output_type": "stream",
     "text": [
      "전체 합 21\n",
      "열방향 합(axis=0) : [5 7 9]\n",
      "행방향 합(axis=1) : [ 6 15]\n"
     ]
    }
   ],
   "source": [
    "# ndArray.sum() : 합계구하기\n",
    "# axis 옵션\n",
    "# axis=0 : 열 방향 합\n",
    "# axis=1 : 행 방향 합\n",
    "\n",
    "arr = np.array([[1,2,3,],    \n",
    "                [4,5,6]])\n",
    "\n",
    "print(\"전체 합\", arr.sum())\n",
    "print(\"열방향 합(axis=0) :\", arr.sum(axis=0))\n",
    "print(\"행방향 합(axis=1) :\", arr.sum(axis=1))"
   ]
  }
 ],
 "metadata": {
  "kernelspec": {
   "display_name": "Python 3",
   "language": "python",
   "name": "python3"
  },
  "language_info": {
   "codemirror_mode": {
    "name": "ipython",
    "version": 3
   },
   "file_extension": ".py",
   "mimetype": "text/x-python",
   "name": "python",
   "nbconvert_exporter": "python",
   "pygments_lexer": "ipython3",
   "version": "3.13.7"
  }
 },
 "nbformat": 4,
 "nbformat_minor": 5
}
