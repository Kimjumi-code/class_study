{
 "cells": [
  {
   "cell_type": "code",
   "execution_count": 18,
   "id": "66d47dab",
   "metadata": {},
   "outputs": [],
   "source": [
    "# openpyxl => 파이썬에서 엑셀 파일을 읽고 쓰기 위한 라이브러리\n",
    "\n",
    "# openpyxl의 모든 기능을 불러옴\n",
    "from openpyxl import *\n",
    "\n",
    "# 새로운 엑셀 파일 만들기\n",
    "# 새 엑셀 파일을 만들겠다 라는 의미\n",
    "w1 = Workbook() \n",
    "\n",
    "# 만들어진 엑셀 파일에서 기본 시트 선택\n",
    "ws = w1.active\n",
    "\n",
    "# 지금 만든 엑셀 파일을 실제 파일로 저장\n",
    "# 파일의 이름은 test.xlsx로 저장\n",
    "# 실행 한 후에 저장이 되었다면 주석처리해도 무관함\n",
    "# w1 .save(\"test.xlsx\")\n",
    "\n",
    "# 기존에 저장된 엑셀 파일을 다시 열어서 수정할 수 있게 함\n",
    "w2 = load_workbook('test.xlsx')\n",
    "\n",
    "# 열어온 엑셀 파일에서 첫 번쩨 시트를 선택\n",
    "ws2 = w2.active\n",
    "\n",
    "# 셀에 값 입력하기\n",
    "# A1 셀에 hello 라는 텍스트 입력\n",
    "ws2[\"A1\"] = 'hello'\n",
    "\n",
    "# 실행을 했다면 저장을 반드시 하기!\n",
    "w2.save(\"test.xlsx\")\n",
    "\n",
    "ws2[\"C3\"] = 'bye'\n",
    "w2.save(\"test.xlsx\")"
   ]
  },
  {
   "cell_type": "code",
   "execution_count": 19,
   "id": "ef041737",
   "metadata": {},
   "outputs": [],
   "source": [
    "a = \"Python\"\n",
    "\n",
    "# ws2[\"D5\":\"F8\"]: D5부터 F8셀까지의 범위를 선택 (4행 * 3셀 = 총 12셀 선택)\n",
    "for row in ws2[\"D5\":\"F8\"]: # 행 단위로 반복\n",
    "    for cell in row: # 각 행 안의 셀들을 하나씩 꺼내서\n",
    "        cell.value = a # 셀에 Python이라는 값 입력\n",
    "\n",
    "w2.save(\"test.xlsx\")"
   ]
  },
  {
   "cell_type": "code",
   "execution_count": 20,
   "id": "e4682b27",
   "metadata": {},
   "outputs": [],
   "source": [
    "num = 1\n",
    "# A1 부터 C3까지 범위 선택하여 1을 입력하기\n",
    "\n",
    "for row in ws2[\"A1\":\"C3\"]:\n",
    "    for cell in row:\n",
    "        cell.value = 1\n",
    "\n",
    "w2.save(\"test.xlsx\")"
   ]
  }
 ],
 "metadata": {
  "kernelspec": {
   "display_name": "Python 3",
   "language": "python",
   "name": "python3"
  },
  "language_info": {
   "codemirror_mode": {
    "name": "ipython",
    "version": 3
   },
   "file_extension": ".py",
   "mimetype": "text/x-python",
   "name": "python",
   "nbconvert_exporter": "python",
   "pygments_lexer": "ipython3",
   "version": "3.13.7"
  }
 },
 "nbformat": 4,
 "nbformat_minor": 5
}
