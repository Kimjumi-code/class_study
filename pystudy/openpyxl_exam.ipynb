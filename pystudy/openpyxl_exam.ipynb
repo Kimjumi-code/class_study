{
 "cells": [
  {
   "cell_type": "code",
   "execution_count": 18,
   "id": "66d47dab",
   "metadata": {},
   "outputs": [],
   "source": [
    "# openpyxl => 파이썬에서 엑셀 파일을 읽고 쓰기 위한 라이브러리\n",
    "\n",
    "# openpyxl의 모든 기능을 불러옴\n",
    "from openpyxl import *\n",
    "\n",
    "# 새로운 엑셀 파일 만들기\n",
    "# 새 엑셀 파일을 만들겠다 라는 의미\n",
    "w1 = Workbook() \n",
    "\n",
    "# 만들어진 엑셀 파일에서 기본 시트 선택\n",
    "ws = w1.active\n",
    "\n",
    "# 지금 만든 엑셀 파일을 실제 파일로 저장\n",
    "# 파일의 이름은 test.xlsx로 저장\n",
    "# 실행 한 후에 저장이 되었다면 주석처리해도 무관함\n",
    "# w1 .save(\"test.xlsx\")\n",
    "\n",
    "# 기존에 저장된 엑셀 파일을 다시 열어서 수정할 수 있게 함\n",
    "w2 = load_workbook('test.xlsx')\n",
    "\n",
    "# 열어온 엑셀 파일에서 첫 번쩨 시트를 선택\n",
    "ws2 = w2.active\n",
    "\n",
    "# 셀에 값 입력하기\n",
    "# A1 셀에 hello 라는 텍스트 입력\n",
    "ws2[\"A1\"] = 'hello'\n",
    "\n",
    "# 실행을 했다면 저장을 반드시 하기!\n",
    "w2.save(\"test.xlsx\")\n",
    "\n",
    "ws2[\"C3\"] = 'bye'\n",
    "w2.save(\"test.xlsx\")"
   ]
  },
  {
   "cell_type": "code",
   "execution_count": 19,
   "id": "ef041737",
   "metadata": {},
   "outputs": [],
   "source": [
    "a = \"Python\"\n",
    "\n",
    "# ws2[\"D5\":\"F8\"]: D5부터 F8셀까지의 범위를 선택 (4행 * 3셀 = 총 12셀 선택)\n",
    "for row in ws2[\"D5\":\"F8\"]: # 행 단위로 반복\n",
    "    for cell in row: # 각 행 안의 셀들을 하나씩 꺼내서\n",
    "        cell.value = a # 셀에 Python이라는 값 입력\n",
    "\n",
    "w2.save(\"test.xlsx\")"
   ]
  },
  {
   "cell_type": "code",
   "execution_count": 20,
   "id": "e4682b27",
   "metadata": {},
   "outputs": [],
   "source": [
    "num = 1\n",
    "# A1 부터 C3까지 범위 선택하여 1을 입력하기\n",
    "\n",
    "for row in ws2[\"A1\":\"C3\"]:\n",
    "    for cell in row:\n",
    "        cell.value = 1\n",
    "\n",
    "w2.save(\"test.xlsx\")"
   ]
  },
  {
   "cell_type": "code",
   "execution_count": 5,
   "id": "28c8432e",
   "metadata": {},
   "outputs": [],
   "source": [
    "from openpyxl import *\n",
    "w2 = load_workbook('test.xlsx')\n",
    "\n",
    "# 새로운 시트를 하나 생성\n",
    "newws = w2.create_sheet()\n",
    "\n",
    "# 새로만든 시트의 이름 설정\n",
    "# 기본 이름은 sheet1, sheet2 ...\n",
    "newws.title = '마지막시트'\n",
    "\n",
    "# create_sheet(\"시트이름\", 위치): 특정위치(index)에 시트를 만들면서 이름도 정할 수 있음\n",
    "w2.create_sheet(\"1번시트\", 0)\n",
    "\n",
    "w2.save('test.xlsx')"
   ]
  },
  {
   "cell_type": "code",
   "execution_count": null,
   "id": "30f72388",
   "metadata": {},
   "outputs": [
    {
     "name": "stdout",
     "output_type": "stream",
     "text": [
      "1\n"
     ]
    }
   ],
   "source": [
    "# 리스트 튜플 차이점\n",
    "tuple1 = (1, 2, 3, 4)\n",
    "print(tuple1[0])\n",
    "\n",
    "tuple1"
   ]
  },
  {
   "cell_type": "code",
   "execution_count": 12,
   "id": "6356e430",
   "metadata": {},
   "outputs": [],
   "source": [
    "item1 = {\n",
    "    \"품목\" : \"바나나\",\n",
    "    \"가격\" : \"3000\",\n",
    "    \"수량\" : 1,\n",
    "    \"날짜\" : \"2025년 09월 30일\"\n",
    "}\n",
    "\n",
    "item2 = {\n",
    "    \"품목\" : \"커피\",\n",
    "    \"가격\" : \"5000\",\n",
    "    \"수량\" : 2,\n",
    "    \"날짜\" : \"2025년 10월 10일\"\n",
    "}\n",
    "\n",
    "item3 = {\n",
    "    \"품목\" : \"책\",\n",
    "    \"가격\" : \"15000\",\n",
    "    \"수량\" : 3,\n",
    "    \"날짜\" : \"2025년 10월 23일\"\n",
    "}\n",
    "\n",
    "item4 = {\n",
    "    \"품목\" : \"가방\",\n",
    "    \"가격\" : \"30000\",\n",
    "    \"수량\" : 1,\n",
    "    \"날짜\" : \"2025년 10월 31일\"\n",
    "}\n",
    "\n",
    "items = [item1, item2, item3, item4]\n",
    "\n",
    "from openpyxl import workbook\n",
    "wb = Workbook()\n",
    "ws = wb.active\n",
    "\n",
    "ws[\"A1\"] = \"품목\" # A열 1행 : 품목\n",
    "ws[\"B1\"] = \"가격\" # B열 1행 : 가격\n",
    "ws[\"C1\"] = \"수량\" # C열 1행 : 수량\n",
    "ws[\"D1\"] = \"날짜\" # D열 1행 : 날짜\n",
    "\n",
    "i = 2\n",
    "for item in items:\n",
    "    ws[\"A\" + str(i)] = item[\"품목\"]\n",
    "    ws[\"B\" + str(i)] = item[\"가격\"]\n",
    "    ws[\"C\" + str(i)] = item[\"수량\"]\n",
    "    ws[\"D\" + str(i)] = item[\"날짜\"]\n",
    "    i += 1\n",
    "wb.save('test2.xlsx')\n"
   ]
  },
  {
   "cell_type": "code",
   "execution_count": 16,
   "id": "850740e7",
   "metadata": {},
   "outputs": [],
   "source": [
    "from openpyxl import workbook\n",
    "student1 = {\n",
    "    \"이름\" : \"철수\",\n",
    "    \"국어\" : 85,\n",
    "    \"영어\" : 92,\n",
    "    \"수학\" : 78,\n",
    "    \"생일\" : \"2006-03-01\"\n",
    "}\n",
    "student2 = {\n",
    "    \"이름\" : \"영희\",\n",
    "    \"국어\" : 90,\n",
    "    \"영어\" : 88,\n",
    "    \"수학\" : 95,\n",
    "    \"생일\" : \"2006-05-12\"\n",
    "}\n",
    "student3 = {\n",
    "    \"이름\" : \"민수\",\n",
    "    \"국어\" : 70,\n",
    "    \"영어\" : 65,\n",
    "    \"수학\" : 80,\n",
    "    \"생일\" : \"2007-01-25\"\n",
    "}\n",
    "student4 = {\n",
    "    \"이름\" : \"지우\",\n",
    "    \"국어\" : 100,\n",
    "    \"영어\" : 98,\n",
    "    \"수학\" : 99,\n",
    "    \"생일\" : \"2005-12-30\"\n",
    "}\n",
    "\n",
    "students = [student1, student2, student3, student4]\n",
    "wb = Workbook()\n",
    "ws = wb.active\n",
    "\n",
    "ws[\"A1\"] = \"이름\"\n",
    "ws[\"B1\"] = \"국어\"\n",
    "ws[\"C1\"] = \"영어\"\n",
    "ws[\"D1\"] = \"수학\"\n",
    "ws[\"E1\"] = \"생일\"\n",
    "\n",
    "i = 2\n",
    "for student in students:\n",
    "    ws[\"A\" + str(i)] = student[\"이름\"]\n",
    "    ws[\"B\" + str(i)] = student[\"국어\"]\n",
    "    ws[\"C\" + str(i)] = student[\"영어\"]\n",
    "    ws[\"D\" + str(i)] = student[\"수학\"]\n",
    "    ws[\"E\" + str(i)] = student[\"생일\"]\n",
    "    i += 1\n",
    "\n",
    "wb.save('students.xlsx')"
   ]
  },
  {
   "cell_type": "code",
   "execution_count": 17,
   "id": "880a3f07",
   "metadata": {},
   "outputs": [
    {
     "name": "stdout",
     "output_type": "stream",
     "text": [
      "0 초 지남\n",
      "1 초 지남\n",
      "2 초 지남\n",
      "3 초 지남\n",
      "4 초 지남\n"
     ]
    }
   ],
   "source": [
    "import time\n",
    "# time.sleep(5) : 5초동안 프로그램 정지\n",
    "\n",
    "for i in range(5):\n",
    "    print(i, \"초 지남\")\n",
    "    time.sleep(1)"
   ]
  }
 ],
 "metadata": {
  "kernelspec": {
   "display_name": "Python 3",
   "language": "python",
   "name": "python3"
  },
  "language_info": {
   "codemirror_mode": {
    "name": "ipython",
    "version": 3
   },
   "file_extension": ".py",
   "mimetype": "text/x-python",
   "name": "python",
   "nbconvert_exporter": "python",
   "pygments_lexer": "ipython3",
   "version": "3.13.7"
  }
 },
 "nbformat": 4,
 "nbformat_minor": 5
}
