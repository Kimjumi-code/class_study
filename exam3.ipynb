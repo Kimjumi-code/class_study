{
 "cells": [
  {
   "cell_type": "code",
   "execution_count": 11,
   "id": "071e4560",
   "metadata": {},
   "outputs": [
    {
     "name": "stdout",
     "output_type": "stream",
     "text": [
      "<Response [200]>\n",
      "[<a class=\"sister\" href=\"http://example.com/elsie\" id=\"link1\">Elsie</a>, <a class=\"sister\" href=\"http://example.com/lacie\" id=\"link2\">Lacie</a>, <a class=\"sister\" href=\"http://example.com/tillie\" id=\"link3\">Tillie</a>]\n"
     ]
    }
   ],
   "source": [
    "# requests 모듈 = 웹페이지를 요청하고 응답데이터를 받을 수 있게 해주는 모듈\n",
    "import requests as req\n",
    "from bs4 import BeautifulSoup # BeautifulSoup html 해석기\n",
    "response = req.get(\"https://www.naver.com\")\n",
    "print(response)\n",
    "\n",
    "html_doc = \"\"\"<html><head><title>The Dormouse's story</title></head>\n",
    "<body>\n",
    "<p class=\"title\"><b>The Dormouse's story</b></p>\n",
    "\n",
    "<p class=\"story\">Once upon a time there were three little sisters; and their names were\n",
    "<a href=\"http://example.com/elsie\" class=\"sister\" id=\"link1\">Elsie</a>,\n",
    "<a href=\"http://example.com/lacie\" class=\"sister\" id=\"link2\">Lacie</a> and\n",
    "<a href=\"http://example.com/tillie\" class=\"sister\" id=\"link3\">Tillie</a>;\n",
    "and they lived at the bottom of a well.</p>\n",
    "\n",
    "<p class=\"story\">...</p>\n",
    "\"\"\"\n",
    "# html_doc 전체 출력\n",
    "# print(html_doc)\n",
    "\n",
    "# soup을 이용해서 html_doc 문자열 파싱, 그 내용을 soup 변수에 대입\n",
    "soup = BeautifulSoup(html_doc, 'html.parser')\n",
    "alist = soup.select('a')\n",
    "print(alist)\n",
    "\n"
   ]
  },
  {
   "cell_type": "code",
   "execution_count": 1,
   "id": "98dea7f0",
   "metadata": {},
   "outputs": [
    {
     "name": "stdout",
     "output_type": "stream",
     "text": [
      "\n",
      "\n",
      "\n",
      "\n",
      "국정자원 화재 복구율 14%…복구 안 된 1등급 서비스 '18개'\n",
      "\n"
     ]
    }
   ],
   "source": [
    "import requests as req\n",
    "from bs4 import BeautifulSoup \n",
    "\n",
    "# 특정 사이트에 페이지를 요청, 응답 데이터 반환\n",
    "response = req.get(\"https://news.naver.com/\")\n",
    "# print(response.text)\n",
    "\n",
    "# html 문자열파싱\n",
    "soup = BeautifulSoup(response.text, 'html.parser')\n",
    "\n",
    "#텍스트 가져오기\n",
    "content = soup.select('._cds_link')\n",
    "print(content[0].text)"
   ]
  }
 ],
 "metadata": {
  "kernelspec": {
   "display_name": "Python 3",
   "language": "python",
   "name": "python3"
  },
  "language_info": {
   "codemirror_mode": {
    "name": "ipython",
    "version": 3
   },
   "file_extension": ".py",
   "mimetype": "text/x-python",
   "name": "python",
   "nbconvert_exporter": "python",
   "pygments_lexer": "ipython3",
   "version": "3.13.7"
  }
 },
 "nbformat": 4,
 "nbformat_minor": 5
}
